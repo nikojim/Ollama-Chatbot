{
  "cells": [
    {
      "cell_type": "markdown",
      "metadata": {
        "id": "view-in-github",
        "colab_type": "text"
      },
      "source": [
        "<a href=\"https://colab.research.google.com/github/nikojim/Ollama-Chatbot/blob/main/chat_json_gemini.ipynb\" target=\"_parent\"><img src=\"https://colab.research.google.com/assets/colab-badge.svg\" alt=\"Open In Colab\"/></a>"
      ]
    },
    {
      "cell_type": "markdown",
      "metadata": {
        "id": "rZOAVfJvW8uF"
      },
      "source": [
        "## Chat myPDF : RAG with LangChain, Ollama, and FAISS Vector Store"
      ]
    },
    {
      "cell_type": "code",
      "execution_count": 2,
      "metadata": {
        "colab": {
          "base_uri": "https://localhost:8080/"
        },
        "collapsed": true,
        "id": "38TN38WgW8uG",
        "outputId": "cda11bc6-dc2b-4553-b104-9251d9fe8013"
      },
      "outputs": [
        {
          "output_type": "stream",
          "name": "stdout",
          "text": [
            "Collecting langchain-community\n",
            "  Downloading langchain_community-0.3.24-py3-none-any.whl.metadata (2.5 kB)\n",
            "Collecting faiss-cpu\n",
            "  Downloading faiss_cpu-1.11.0-cp311-cp311-manylinux_2_28_x86_64.whl.metadata (4.8 kB)\n",
            "Collecting langchain-huggingface\n",
            "  Downloading langchain_huggingface-0.2.0-py3-none-any.whl.metadata (941 bytes)\n",
            "Requirement already satisfied: google-generativeai in /usr/local/lib/python3.11/dist-packages (0.8.5)\n",
            "Collecting langchain-google-genai\n",
            "  Downloading langchain_google_genai-2.1.4-py3-none-any.whl.metadata (5.2 kB)\n",
            "Collecting gradio\n",
            "  Downloading gradio-5.29.0-py3-none-any.whl.metadata (16 kB)\n",
            "Collecting jq\n",
            "  Downloading jq-1.8.0-cp311-cp311-manylinux_2_17_x86_64.manylinux2014_x86_64.whl.metadata (7.0 kB)\n",
            "Requirement already satisfied: langchain-core<1.0.0,>=0.3.59 in /usr/local/lib/python3.11/dist-packages (from langchain-community) (0.3.59)\n",
            "Requirement already satisfied: langchain<1.0.0,>=0.3.25 in /usr/local/lib/python3.11/dist-packages (from langchain-community) (0.3.25)\n",
            "Requirement already satisfied: SQLAlchemy<3,>=1.4 in /usr/local/lib/python3.11/dist-packages (from langchain-community) (2.0.40)\n",
            "Requirement already satisfied: requests<3,>=2 in /usr/local/lib/python3.11/dist-packages (from langchain-community) (2.32.3)\n",
            "Requirement already satisfied: PyYAML>=5.3 in /usr/local/lib/python3.11/dist-packages (from langchain-community) (6.0.2)\n",
            "Requirement already satisfied: aiohttp<4.0.0,>=3.8.3 in /usr/local/lib/python3.11/dist-packages (from langchain-community) (3.11.15)\n",
            "Requirement already satisfied: tenacity!=8.4.0,<10,>=8.1.0 in /usr/local/lib/python3.11/dist-packages (from langchain-community) (9.1.2)\n",
            "Collecting dataclasses-json<0.7,>=0.5.7 (from langchain-community)\n",
            "  Downloading dataclasses_json-0.6.7-py3-none-any.whl.metadata (25 kB)\n",
            "Collecting pydantic-settings<3.0.0,>=2.4.0 (from langchain-community)\n",
            "  Downloading pydantic_settings-2.9.1-py3-none-any.whl.metadata (3.8 kB)\n",
            "Requirement already satisfied: langsmith<0.4,>=0.1.125 in /usr/local/lib/python3.11/dist-packages (from langchain-community) (0.3.42)\n",
            "Collecting httpx-sse<1.0.0,>=0.4.0 (from langchain-community)\n",
            "  Downloading httpx_sse-0.4.0-py3-none-any.whl.metadata (9.0 kB)\n",
            "Requirement already satisfied: numpy>=1.26.2 in /usr/local/lib/python3.11/dist-packages (from langchain-community) (2.0.2)\n",
            "Requirement already satisfied: packaging in /usr/local/lib/python3.11/dist-packages (from faiss-cpu) (24.2)\n",
            "Requirement already satisfied: tokenizers>=0.19.1 in /usr/local/lib/python3.11/dist-packages (from langchain-huggingface) (0.21.1)\n",
            "Requirement already satisfied: transformers>=4.39.0 in /usr/local/lib/python3.11/dist-packages (from langchain-huggingface) (4.51.3)\n",
            "Requirement already satisfied: sentence-transformers>=2.6.0 in /usr/local/lib/python3.11/dist-packages (from langchain-huggingface) (4.1.0)\n",
            "Requirement already satisfied: huggingface-hub>=0.30.2 in /usr/local/lib/python3.11/dist-packages (from langchain-huggingface) (0.31.1)\n",
            "Requirement already satisfied: google-ai-generativelanguage==0.6.15 in /usr/local/lib/python3.11/dist-packages (from google-generativeai) (0.6.15)\n",
            "Requirement already satisfied: google-api-core in /usr/local/lib/python3.11/dist-packages (from google-generativeai) (2.24.2)\n",
            "Requirement already satisfied: google-api-python-client in /usr/local/lib/python3.11/dist-packages (from google-generativeai) (2.169.0)\n",
            "Requirement already satisfied: google-auth>=2.15.0 in /usr/local/lib/python3.11/dist-packages (from google-generativeai) (2.38.0)\n",
            "Requirement already satisfied: protobuf in /usr/local/lib/python3.11/dist-packages (from google-generativeai) (5.29.4)\n",
            "Requirement already satisfied: pydantic in /usr/local/lib/python3.11/dist-packages (from google-generativeai) (2.11.4)\n",
            "Requirement already satisfied: tqdm in /usr/local/lib/python3.11/dist-packages (from google-generativeai) (4.67.1)\n",
            "Requirement already satisfied: typing-extensions in /usr/local/lib/python3.11/dist-packages (from google-generativeai) (4.13.2)\n",
            "Requirement already satisfied: proto-plus<2.0.0dev,>=1.22.3 in /usr/local/lib/python3.11/dist-packages (from google-ai-generativelanguage==0.6.15->google-generativeai) (1.26.1)\n",
            "Collecting filetype<2.0.0,>=1.2.0 (from langchain-google-genai)\n",
            "  Downloading filetype-1.2.0-py2.py3-none-any.whl.metadata (6.5 kB)\n",
            "INFO: pip is looking at multiple versions of langchain-google-genai to determine which version is compatible with other requirements. This could take a while.\n",
            "Collecting langchain-google-genai\n",
            "  Downloading langchain_google_genai-2.1.3-py3-none-any.whl.metadata (4.7 kB)\n",
            "  Downloading langchain_google_genai-2.1.2-py3-none-any.whl.metadata (4.7 kB)\n",
            "  Downloading langchain_google_genai-2.1.1-py3-none-any.whl.metadata (4.7 kB)\n",
            "  Downloading langchain_google_genai-2.1.0-py3-none-any.whl.metadata (3.6 kB)\n",
            "  Downloading langchain_google_genai-2.0.11-py3-none-any.whl.metadata (3.6 kB)\n",
            "  Downloading langchain_google_genai-2.0.10-py3-none-any.whl.metadata (3.6 kB)\n",
            "Collecting aiofiles<25.0,>=22.0 (from gradio)\n",
            "  Downloading aiofiles-24.1.0-py3-none-any.whl.metadata (10 kB)\n",
            "Requirement already satisfied: anyio<5.0,>=3.0 in /usr/local/lib/python3.11/dist-packages (from gradio) (4.9.0)\n",
            "Collecting fastapi<1.0,>=0.115.2 (from gradio)\n",
            "  Downloading fastapi-0.115.12-py3-none-any.whl.metadata (27 kB)\n",
            "Collecting ffmpy (from gradio)\n",
            "  Downloading ffmpy-0.5.0-py3-none-any.whl.metadata (3.0 kB)\n",
            "Collecting gradio-client==1.10.0 (from gradio)\n",
            "  Downloading gradio_client-1.10.0-py3-none-any.whl.metadata (7.1 kB)\n",
            "Collecting groovy~=0.1 (from gradio)\n",
            "  Downloading groovy-0.1.2-py3-none-any.whl.metadata (6.1 kB)\n",
            "Requirement already satisfied: httpx>=0.24.1 in /usr/local/lib/python3.11/dist-packages (from gradio) (0.28.1)\n",
            "Requirement already satisfied: jinja2<4.0 in /usr/local/lib/python3.11/dist-packages (from gradio) (3.1.6)\n",
            "Requirement already satisfied: markupsafe<4.0,>=2.0 in /usr/local/lib/python3.11/dist-packages (from gradio) (3.0.2)\n",
            "Requirement already satisfied: orjson~=3.0 in /usr/local/lib/python3.11/dist-packages (from gradio) (3.10.18)\n",
            "Requirement already satisfied: pandas<3.0,>=1.0 in /usr/local/lib/python3.11/dist-packages (from gradio) (2.2.2)\n",
            "Requirement already satisfied: pillow<12.0,>=8.0 in /usr/local/lib/python3.11/dist-packages (from gradio) (11.2.1)\n",
            "Collecting pydub (from gradio)\n",
            "  Downloading pydub-0.25.1-py2.py3-none-any.whl.metadata (1.4 kB)\n",
            "Collecting python-multipart>=0.0.18 (from gradio)\n",
            "  Downloading python_multipart-0.0.20-py3-none-any.whl.metadata (1.8 kB)\n",
            "Collecting ruff>=0.9.3 (from gradio)\n",
            "  Downloading ruff-0.11.9-py3-none-manylinux_2_17_x86_64.manylinux2014_x86_64.whl.metadata (25 kB)\n",
            "Collecting safehttpx<0.2.0,>=0.1.6 (from gradio)\n",
            "  Downloading safehttpx-0.1.6-py3-none-any.whl.metadata (4.2 kB)\n",
            "Collecting semantic-version~=2.0 (from gradio)\n",
            "  Downloading semantic_version-2.10.0-py2.py3-none-any.whl.metadata (9.7 kB)\n",
            "Collecting starlette<1.0,>=0.40.0 (from gradio)\n",
            "  Downloading starlette-0.46.2-py3-none-any.whl.metadata (6.2 kB)\n",
            "Collecting tomlkit<0.14.0,>=0.12.0 (from gradio)\n",
            "  Downloading tomlkit-0.13.2-py3-none-any.whl.metadata (2.7 kB)\n",
            "Requirement already satisfied: typer<1.0,>=0.12 in /usr/local/lib/python3.11/dist-packages (from gradio) (0.15.3)\n",
            "Collecting uvicorn>=0.14.0 (from gradio)\n",
            "  Downloading uvicorn-0.34.2-py3-none-any.whl.metadata (6.5 kB)\n",
            "Requirement already satisfied: fsspec in /usr/local/lib/python3.11/dist-packages (from gradio-client==1.10.0->gradio) (2025.3.2)\n",
            "Requirement already satisfied: websockets<16.0,>=10.0 in /usr/local/lib/python3.11/dist-packages (from gradio-client==1.10.0->gradio) (15.0.1)\n",
            "Requirement already satisfied: aiohappyeyeballs>=2.3.0 in /usr/local/lib/python3.11/dist-packages (from aiohttp<4.0.0,>=3.8.3->langchain-community) (2.6.1)\n",
            "Requirement already satisfied: aiosignal>=1.1.2 in /usr/local/lib/python3.11/dist-packages (from aiohttp<4.0.0,>=3.8.3->langchain-community) (1.3.2)\n",
            "Requirement already satisfied: attrs>=17.3.0 in /usr/local/lib/python3.11/dist-packages (from aiohttp<4.0.0,>=3.8.3->langchain-community) (25.3.0)\n",
            "Requirement already satisfied: frozenlist>=1.1.1 in /usr/local/lib/python3.11/dist-packages (from aiohttp<4.0.0,>=3.8.3->langchain-community) (1.6.0)\n",
            "Requirement already satisfied: multidict<7.0,>=4.5 in /usr/local/lib/python3.11/dist-packages (from aiohttp<4.0.0,>=3.8.3->langchain-community) (6.4.3)\n",
            "Requirement already satisfied: propcache>=0.2.0 in /usr/local/lib/python3.11/dist-packages (from aiohttp<4.0.0,>=3.8.3->langchain-community) (0.3.1)\n",
            "Requirement already satisfied: yarl<2.0,>=1.17.0 in /usr/local/lib/python3.11/dist-packages (from aiohttp<4.0.0,>=3.8.3->langchain-community) (1.20.0)\n",
            "Requirement already satisfied: idna>=2.8 in /usr/local/lib/python3.11/dist-packages (from anyio<5.0,>=3.0->gradio) (3.10)\n",
            "Requirement already satisfied: sniffio>=1.1 in /usr/local/lib/python3.11/dist-packages (from anyio<5.0,>=3.0->gradio) (1.3.1)\n",
            "Collecting marshmallow<4.0.0,>=3.18.0 (from dataclasses-json<0.7,>=0.5.7->langchain-community)\n",
            "  Downloading marshmallow-3.26.1-py3-none-any.whl.metadata (7.3 kB)\n",
            "Collecting typing-inspect<1,>=0.4.0 (from dataclasses-json<0.7,>=0.5.7->langchain-community)\n",
            "  Downloading typing_inspect-0.9.0-py3-none-any.whl.metadata (1.5 kB)\n",
            "Requirement already satisfied: googleapis-common-protos<2.0.0,>=1.56.2 in /usr/local/lib/python3.11/dist-packages (from google-api-core->google-generativeai) (1.70.0)\n",
            "Requirement already satisfied: cachetools<6.0,>=2.0.0 in /usr/local/lib/python3.11/dist-packages (from google-auth>=2.15.0->google-generativeai) (5.5.2)\n",
            "Requirement already satisfied: pyasn1-modules>=0.2.1 in /usr/local/lib/python3.11/dist-packages (from google-auth>=2.15.0->google-generativeai) (0.4.2)\n",
            "Requirement already satisfied: rsa<5,>=3.1.4 in /usr/local/lib/python3.11/dist-packages (from google-auth>=2.15.0->google-generativeai) (4.9.1)\n",
            "Requirement already satisfied: certifi in /usr/local/lib/python3.11/dist-packages (from httpx>=0.24.1->gradio) (2025.4.26)\n",
            "Requirement already satisfied: httpcore==1.* in /usr/local/lib/python3.11/dist-packages (from httpx>=0.24.1->gradio) (1.0.9)\n",
            "Requirement already satisfied: h11>=0.16 in /usr/local/lib/python3.11/dist-packages (from httpcore==1.*->httpx>=0.24.1->gradio) (0.16.0)\n",
            "Requirement already satisfied: filelock in /usr/local/lib/python3.11/dist-packages (from huggingface-hub>=0.30.2->langchain-huggingface) (3.18.0)\n",
            "Requirement already satisfied: hf-xet<2.0.0,>=1.1.0 in /usr/local/lib/python3.11/dist-packages (from huggingface-hub>=0.30.2->langchain-huggingface) (1.1.0)\n",
            "Requirement already satisfied: langchain-text-splitters<1.0.0,>=0.3.8 in /usr/local/lib/python3.11/dist-packages (from langchain<1.0.0,>=0.3.25->langchain-community) (0.3.8)\n",
            "Requirement already satisfied: jsonpatch<2.0,>=1.33 in /usr/local/lib/python3.11/dist-packages (from langchain-core<1.0.0,>=0.3.59->langchain-community) (1.33)\n",
            "Requirement already satisfied: requests-toolbelt<2.0.0,>=1.0.0 in /usr/local/lib/python3.11/dist-packages (from langsmith<0.4,>=0.1.125->langchain-community) (1.0.0)\n",
            "Requirement already satisfied: zstandard<0.24.0,>=0.23.0 in /usr/local/lib/python3.11/dist-packages (from langsmith<0.4,>=0.1.125->langchain-community) (0.23.0)\n",
            "Requirement already satisfied: python-dateutil>=2.8.2 in /usr/local/lib/python3.11/dist-packages (from pandas<3.0,>=1.0->gradio) (2.9.0.post0)\n",
            "Requirement already satisfied: pytz>=2020.1 in /usr/local/lib/python3.11/dist-packages (from pandas<3.0,>=1.0->gradio) (2025.2)\n",
            "Requirement already satisfied: tzdata>=2022.7 in /usr/local/lib/python3.11/dist-packages (from pandas<3.0,>=1.0->gradio) (2025.2)\n",
            "Requirement already satisfied: annotated-types>=0.6.0 in /usr/local/lib/python3.11/dist-packages (from pydantic->google-generativeai) (0.7.0)\n",
            "Requirement already satisfied: pydantic-core==2.33.2 in /usr/local/lib/python3.11/dist-packages (from pydantic->google-generativeai) (2.33.2)\n",
            "Requirement already satisfied: typing-inspection>=0.4.0 in /usr/local/lib/python3.11/dist-packages (from pydantic->google-generativeai) (0.4.0)\n",
            "Collecting python-dotenv>=0.21.0 (from pydantic-settings<3.0.0,>=2.4.0->langchain-community)\n",
            "  Downloading python_dotenv-1.1.0-py3-none-any.whl.metadata (24 kB)\n",
            "Requirement already satisfied: charset-normalizer<4,>=2 in /usr/local/lib/python3.11/dist-packages (from requests<3,>=2->langchain-community) (3.4.2)\n",
            "Requirement already satisfied: urllib3<3,>=1.21.1 in /usr/local/lib/python3.11/dist-packages (from requests<3,>=2->langchain-community) (2.4.0)\n",
            "Requirement already satisfied: torch>=1.11.0 in /usr/local/lib/python3.11/dist-packages (from sentence-transformers>=2.6.0->langchain-huggingface) (2.6.0+cu124)\n",
            "Requirement already satisfied: scikit-learn in /usr/local/lib/python3.11/dist-packages (from sentence-transformers>=2.6.0->langchain-huggingface) (1.6.1)\n",
            "Requirement already satisfied: scipy in /usr/local/lib/python3.11/dist-packages (from sentence-transformers>=2.6.0->langchain-huggingface) (1.15.2)\n",
            "Requirement already satisfied: greenlet>=1 in /usr/local/lib/python3.11/dist-packages (from SQLAlchemy<3,>=1.4->langchain-community) (3.2.1)\n",
            "Requirement already satisfied: regex!=2019.12.17 in /usr/local/lib/python3.11/dist-packages (from transformers>=4.39.0->langchain-huggingface) (2024.11.6)\n",
            "Requirement already satisfied: safetensors>=0.4.3 in /usr/local/lib/python3.11/dist-packages (from transformers>=4.39.0->langchain-huggingface) (0.5.3)\n",
            "Requirement already satisfied: click>=8.0.0 in /usr/local/lib/python3.11/dist-packages (from typer<1.0,>=0.12->gradio) (8.1.8)\n",
            "Requirement already satisfied: shellingham>=1.3.0 in /usr/local/lib/python3.11/dist-packages (from typer<1.0,>=0.12->gradio) (1.5.4)\n",
            "Requirement already satisfied: rich>=10.11.0 in /usr/local/lib/python3.11/dist-packages (from typer<1.0,>=0.12->gradio) (13.9.4)\n",
            "Requirement already satisfied: httplib2<1.0.0,>=0.19.0 in /usr/local/lib/python3.11/dist-packages (from google-api-python-client->google-generativeai) (0.22.0)\n",
            "Requirement already satisfied: google-auth-httplib2<1.0.0,>=0.2.0 in /usr/local/lib/python3.11/dist-packages (from google-api-python-client->google-generativeai) (0.2.0)\n",
            "Requirement already satisfied: uritemplate<5,>=3.0.1 in /usr/local/lib/python3.11/dist-packages (from google-api-python-client->google-generativeai) (4.1.1)\n",
            "Requirement already satisfied: grpcio<2.0dev,>=1.33.2 in /usr/local/lib/python3.11/dist-packages (from google-api-core[grpc]!=2.0.*,!=2.1.*,!=2.10.*,!=2.2.*,!=2.3.*,!=2.4.*,!=2.5.*,!=2.6.*,!=2.7.*,!=2.8.*,!=2.9.*,<3.0.0dev,>=1.34.1->google-ai-generativelanguage==0.6.15->google-generativeai) (1.71.0)\n",
            "Requirement already satisfied: grpcio-status<2.0.dev0,>=1.33.2 in /usr/local/lib/python3.11/dist-packages (from google-api-core[grpc]!=2.0.*,!=2.1.*,!=2.10.*,!=2.2.*,!=2.3.*,!=2.4.*,!=2.5.*,!=2.6.*,!=2.7.*,!=2.8.*,!=2.9.*,<3.0.0dev,>=1.34.1->google-ai-generativelanguage==0.6.15->google-generativeai) (1.71.0)\n",
            "Requirement already satisfied: pyparsing!=3.0.0,!=3.0.1,!=3.0.2,!=3.0.3,<4,>=2.4.2 in /usr/local/lib/python3.11/dist-packages (from httplib2<1.0.0,>=0.19.0->google-api-python-client->google-generativeai) (3.2.3)\n",
            "Requirement already satisfied: jsonpointer>=1.9 in /usr/local/lib/python3.11/dist-packages (from jsonpatch<2.0,>=1.33->langchain-core<1.0.0,>=0.3.59->langchain-community) (3.0.0)\n",
            "Requirement already satisfied: pyasn1<0.7.0,>=0.6.1 in /usr/local/lib/python3.11/dist-packages (from pyasn1-modules>=0.2.1->google-auth>=2.15.0->google-generativeai) (0.6.1)\n",
            "Requirement already satisfied: six>=1.5 in /usr/local/lib/python3.11/dist-packages (from python-dateutil>=2.8.2->pandas<3.0,>=1.0->gradio) (1.17.0)\n",
            "Requirement already satisfied: markdown-it-py>=2.2.0 in /usr/local/lib/python3.11/dist-packages (from rich>=10.11.0->typer<1.0,>=0.12->gradio) (3.0.0)\n",
            "Requirement already satisfied: pygments<3.0.0,>=2.13.0 in /usr/local/lib/python3.11/dist-packages (from rich>=10.11.0->typer<1.0,>=0.12->gradio) (2.19.1)\n",
            "Requirement already satisfied: networkx in /usr/local/lib/python3.11/dist-packages (from torch>=1.11.0->sentence-transformers>=2.6.0->langchain-huggingface) (3.4.2)\n",
            "Collecting nvidia-cuda-nvrtc-cu12==12.4.127 (from torch>=1.11.0->sentence-transformers>=2.6.0->langchain-huggingface)\n",
            "  Downloading nvidia_cuda_nvrtc_cu12-12.4.127-py3-none-manylinux2014_x86_64.whl.metadata (1.5 kB)\n",
            "Collecting nvidia-cuda-runtime-cu12==12.4.127 (from torch>=1.11.0->sentence-transformers>=2.6.0->langchain-huggingface)\n",
            "  Downloading nvidia_cuda_runtime_cu12-12.4.127-py3-none-manylinux2014_x86_64.whl.metadata (1.5 kB)\n",
            "Collecting nvidia-cuda-cupti-cu12==12.4.127 (from torch>=1.11.0->sentence-transformers>=2.6.0->langchain-huggingface)\n",
            "  Downloading nvidia_cuda_cupti_cu12-12.4.127-py3-none-manylinux2014_x86_64.whl.metadata (1.6 kB)\n",
            "Collecting nvidia-cudnn-cu12==9.1.0.70 (from torch>=1.11.0->sentence-transformers>=2.6.0->langchain-huggingface)\n",
            "  Downloading nvidia_cudnn_cu12-9.1.0.70-py3-none-manylinux2014_x86_64.whl.metadata (1.6 kB)\n",
            "Collecting nvidia-cublas-cu12==12.4.5.8 (from torch>=1.11.0->sentence-transformers>=2.6.0->langchain-huggingface)\n",
            "  Downloading nvidia_cublas_cu12-12.4.5.8-py3-none-manylinux2014_x86_64.whl.metadata (1.5 kB)\n",
            "Collecting nvidia-cufft-cu12==11.2.1.3 (from torch>=1.11.0->sentence-transformers>=2.6.0->langchain-huggingface)\n",
            "  Downloading nvidia_cufft_cu12-11.2.1.3-py3-none-manylinux2014_x86_64.whl.metadata (1.5 kB)\n",
            "Collecting nvidia-curand-cu12==10.3.5.147 (from torch>=1.11.0->sentence-transformers>=2.6.0->langchain-huggingface)\n",
            "  Downloading nvidia_curand_cu12-10.3.5.147-py3-none-manylinux2014_x86_64.whl.metadata (1.5 kB)\n",
            "Collecting nvidia-cusolver-cu12==11.6.1.9 (from torch>=1.11.0->sentence-transformers>=2.6.0->langchain-huggingface)\n",
            "  Downloading nvidia_cusolver_cu12-11.6.1.9-py3-none-manylinux2014_x86_64.whl.metadata (1.6 kB)\n",
            "Collecting nvidia-cusparse-cu12==12.3.1.170 (from torch>=1.11.0->sentence-transformers>=2.6.0->langchain-huggingface)\n",
            "  Downloading nvidia_cusparse_cu12-12.3.1.170-py3-none-manylinux2014_x86_64.whl.metadata (1.6 kB)\n",
            "Requirement already satisfied: nvidia-cusparselt-cu12==0.6.2 in /usr/local/lib/python3.11/dist-packages (from torch>=1.11.0->sentence-transformers>=2.6.0->langchain-huggingface) (0.6.2)\n",
            "Requirement already satisfied: nvidia-nccl-cu12==2.21.5 in /usr/local/lib/python3.11/dist-packages (from torch>=1.11.0->sentence-transformers>=2.6.0->langchain-huggingface) (2.21.5)\n",
            "Requirement already satisfied: nvidia-nvtx-cu12==12.4.127 in /usr/local/lib/python3.11/dist-packages (from torch>=1.11.0->sentence-transformers>=2.6.0->langchain-huggingface) (12.4.127)\n",
            "Collecting nvidia-nvjitlink-cu12==12.4.127 (from torch>=1.11.0->sentence-transformers>=2.6.0->langchain-huggingface)\n",
            "  Downloading nvidia_nvjitlink_cu12-12.4.127-py3-none-manylinux2014_x86_64.whl.metadata (1.5 kB)\n",
            "Requirement already satisfied: triton==3.2.0 in /usr/local/lib/python3.11/dist-packages (from torch>=1.11.0->sentence-transformers>=2.6.0->langchain-huggingface) (3.2.0)\n",
            "Requirement already satisfied: sympy==1.13.1 in /usr/local/lib/python3.11/dist-packages (from torch>=1.11.0->sentence-transformers>=2.6.0->langchain-huggingface) (1.13.1)\n",
            "Requirement already satisfied: mpmath<1.4,>=1.1.0 in /usr/local/lib/python3.11/dist-packages (from sympy==1.13.1->torch>=1.11.0->sentence-transformers>=2.6.0->langchain-huggingface) (1.3.0)\n",
            "Collecting mypy-extensions>=0.3.0 (from typing-inspect<1,>=0.4.0->dataclasses-json<0.7,>=0.5.7->langchain-community)\n",
            "  Downloading mypy_extensions-1.1.0-py3-none-any.whl.metadata (1.1 kB)\n",
            "Requirement already satisfied: joblib>=1.2.0 in /usr/local/lib/python3.11/dist-packages (from scikit-learn->sentence-transformers>=2.6.0->langchain-huggingface) (1.5.0)\n",
            "Requirement already satisfied: threadpoolctl>=3.1.0 in /usr/local/lib/python3.11/dist-packages (from scikit-learn->sentence-transformers>=2.6.0->langchain-huggingface) (3.6.0)\n",
            "Requirement already satisfied: mdurl~=0.1 in /usr/local/lib/python3.11/dist-packages (from markdown-it-py>=2.2.0->rich>=10.11.0->typer<1.0,>=0.12->gradio) (0.1.2)\n",
            "Downloading langchain_community-0.3.24-py3-none-any.whl (2.5 MB)\n",
            "\u001b[2K   \u001b[90m━━━━━━━━━━━━━━━━━━━━━━━━━━━━━━━━━━━━━━━━\u001b[0m \u001b[32m2.5/2.5 MB\u001b[0m \u001b[31m27.3 MB/s\u001b[0m eta \u001b[36m0:00:00\u001b[0m\n",
            "\u001b[?25hDownloading faiss_cpu-1.11.0-cp311-cp311-manylinux_2_28_x86_64.whl (31.3 MB)\n",
            "\u001b[2K   \u001b[90m━━━━━━━━━━━━━━━━━━━━━━━━━━━━━━━━━━━━━━━━\u001b[0m \u001b[32m31.3/31.3 MB\u001b[0m \u001b[31m46.4 MB/s\u001b[0m eta \u001b[36m0:00:00\u001b[0m\n",
            "\u001b[?25hDownloading langchain_huggingface-0.2.0-py3-none-any.whl (27 kB)\n",
            "Downloading langchain_google_genai-2.0.10-py3-none-any.whl (41 kB)\n",
            "\u001b[2K   \u001b[90m━━━━━━━━━━━━━━━━━━━━━━━━━━━━━━━━━━━━━━━━\u001b[0m \u001b[32m42.0/42.0 kB\u001b[0m \u001b[31m3.6 MB/s\u001b[0m eta \u001b[36m0:00:00\u001b[0m\n",
            "\u001b[?25hDownloading gradio-5.29.0-py3-none-any.whl (54.1 MB)\n",
            "\u001b[2K   \u001b[90m━━━━━━━━━━━━━━━━━━━━━━━━━━━━━━━━━━━━━━━━\u001b[0m \u001b[32m54.1/54.1 MB\u001b[0m \u001b[31m14.1 MB/s\u001b[0m eta \u001b[36m0:00:00\u001b[0m\n",
            "\u001b[?25hDownloading gradio_client-1.10.0-py3-none-any.whl (322 kB)\n",
            "\u001b[2K   \u001b[90m━━━━━━━━━━━━━━━━━━━━━━━━━━━━━━━━━━━━━━━━\u001b[0m \u001b[32m322.9/322.9 kB\u001b[0m \u001b[31m30.0 MB/s\u001b[0m eta \u001b[36m0:00:00\u001b[0m\n",
            "\u001b[?25hDownloading jq-1.8.0-cp311-cp311-manylinux_2_17_x86_64.manylinux2014_x86_64.whl (746 kB)\n",
            "\u001b[2K   \u001b[90m━━━━━━━━━━━━━━━━━━━━━━━━━━━━━━━━━━━━━━━━\u001b[0m \u001b[32m746.6/746.6 kB\u001b[0m \u001b[31m52.4 MB/s\u001b[0m eta \u001b[36m0:00:00\u001b[0m\n",
            "\u001b[?25hDownloading aiofiles-24.1.0-py3-none-any.whl (15 kB)\n",
            "Downloading dataclasses_json-0.6.7-py3-none-any.whl (28 kB)\n",
            "Downloading fastapi-0.115.12-py3-none-any.whl (95 kB)\n",
            "\u001b[2K   \u001b[90m━━━━━━━━━━━━━━━━━━━━━━━━━━━━━━━━━━━━━━━━\u001b[0m \u001b[32m95.2/95.2 kB\u001b[0m \u001b[31m9.9 MB/s\u001b[0m eta \u001b[36m0:00:00\u001b[0m\n",
            "\u001b[?25hDownloading filetype-1.2.0-py2.py3-none-any.whl (19 kB)\n",
            "Downloading groovy-0.1.2-py3-none-any.whl (14 kB)\n",
            "Downloading httpx_sse-0.4.0-py3-none-any.whl (7.8 kB)\n",
            "Downloading pydantic_settings-2.9.1-py3-none-any.whl (44 kB)\n",
            "\u001b[2K   \u001b[90m━━━━━━━━━━━━━━━━━━━━━━━━━━━━━━━━━━━━━━━━\u001b[0m \u001b[32m44.4/44.4 kB\u001b[0m \u001b[31m4.3 MB/s\u001b[0m eta \u001b[36m0:00:00\u001b[0m\n",
            "\u001b[?25hDownloading python_multipart-0.0.20-py3-none-any.whl (24 kB)\n",
            "Downloading ruff-0.11.9-py3-none-manylinux_2_17_x86_64.manylinux2014_x86_64.whl (11.5 MB)\n",
            "\u001b[2K   \u001b[90m━━━━━━━━━━━━━━━━━━━━━━━━━━━━━━━━━━━━━━━━\u001b[0m \u001b[32m11.5/11.5 MB\u001b[0m \u001b[31m98.0 MB/s\u001b[0m eta \u001b[36m0:00:00\u001b[0m\n",
            "\u001b[?25hDownloading safehttpx-0.1.6-py3-none-any.whl (8.7 kB)\n",
            "Downloading semantic_version-2.10.0-py2.py3-none-any.whl (15 kB)\n",
            "Downloading starlette-0.46.2-py3-none-any.whl (72 kB)\n",
            "\u001b[2K   \u001b[90m━━━━━━━━━━━━━━━━━━━━━━━━━━━━━━━━━━━━━━━━\u001b[0m \u001b[32m72.0/72.0 kB\u001b[0m \u001b[31m7.8 MB/s\u001b[0m eta \u001b[36m0:00:00\u001b[0m\n",
            "\u001b[?25hDownloading tomlkit-0.13.2-py3-none-any.whl (37 kB)\n",
            "Downloading uvicorn-0.34.2-py3-none-any.whl (62 kB)\n",
            "\u001b[2K   \u001b[90m━━━━━━━━━━━━━━━━━━━━━━━━━━━━━━━━━━━━━━━━\u001b[0m \u001b[32m62.5/62.5 kB\u001b[0m \u001b[31m6.7 MB/s\u001b[0m eta \u001b[36m0:00:00\u001b[0m\n",
            "\u001b[?25hDownloading ffmpy-0.5.0-py3-none-any.whl (6.0 kB)\n",
            "Downloading pydub-0.25.1-py2.py3-none-any.whl (32 kB)\n",
            "Downloading marshmallow-3.26.1-py3-none-any.whl (50 kB)\n",
            "\u001b[2K   \u001b[90m━━━━━━━━━━━━━━━━━━━━━━━━━━━━━━━━━━━━━━━━\u001b[0m \u001b[32m50.9/50.9 kB\u001b[0m \u001b[31m5.3 MB/s\u001b[0m eta \u001b[36m0:00:00\u001b[0m\n",
            "\u001b[?25hDownloading python_dotenv-1.1.0-py3-none-any.whl (20 kB)\n",
            "Downloading nvidia_cublas_cu12-12.4.5.8-py3-none-manylinux2014_x86_64.whl (363.4 MB)\n",
            "\u001b[2K   \u001b[90m━━━━━━━━━━━━━━━━━━━━━━━━━━━━━━━━━━━━━━━━\u001b[0m \u001b[32m363.4/363.4 MB\u001b[0m \u001b[31m4.5 MB/s\u001b[0m eta \u001b[36m0:00:00\u001b[0m\n",
            "\u001b[?25hDownloading nvidia_cuda_cupti_cu12-12.4.127-py3-none-manylinux2014_x86_64.whl (13.8 MB)\n",
            "\u001b[2K   \u001b[90m━━━━━━━━━━━━━━━━━━━━━━━━━━━━━━━━━━━━━━━━\u001b[0m \u001b[32m13.8/13.8 MB\u001b[0m \u001b[31m72.0 MB/s\u001b[0m eta \u001b[36m0:00:00\u001b[0m\n",
            "\u001b[?25hDownloading nvidia_cuda_nvrtc_cu12-12.4.127-py3-none-manylinux2014_x86_64.whl (24.6 MB)\n",
            "\u001b[2K   \u001b[90m━━━━━━━━━━━━━━━━━━━━━━━━━━━━━━━━━━━━━━━━\u001b[0m \u001b[32m24.6/24.6 MB\u001b[0m \u001b[31m60.6 MB/s\u001b[0m eta \u001b[36m0:00:00\u001b[0m\n",
            "\u001b[?25hDownloading nvidia_cuda_runtime_cu12-12.4.127-py3-none-manylinux2014_x86_64.whl (883 kB)\n",
            "\u001b[2K   \u001b[90m━━━━━━━━━━━━━━━━━━━━━━━━━━━━━━━━━━━━━━━━\u001b[0m \u001b[32m883.7/883.7 kB\u001b[0m \u001b[31m39.9 MB/s\u001b[0m eta \u001b[36m0:00:00\u001b[0m\n",
            "\u001b[?25hDownloading nvidia_cudnn_cu12-9.1.0.70-py3-none-manylinux2014_x86_64.whl (664.8 MB)\n",
            "\u001b[2K   \u001b[90m━━━━━━━━━━━━━━━━━━━━━━━━━━━━━━━━━━━━━━━━\u001b[0m \u001b[32m664.8/664.8 MB\u001b[0m \u001b[31m2.9 MB/s\u001b[0m eta \u001b[36m0:00:00\u001b[0m\n",
            "\u001b[?25hDownloading nvidia_cufft_cu12-11.2.1.3-py3-none-manylinux2014_x86_64.whl (211.5 MB)\n",
            "\u001b[2K   \u001b[90m━━━━━━━━━━━━━━━━━━━━━━━━━━━━━━━━━━━━━━━━\u001b[0m \u001b[32m211.5/211.5 MB\u001b[0m \u001b[31m6.6 MB/s\u001b[0m eta \u001b[36m0:00:00\u001b[0m\n",
            "\u001b[?25hDownloading nvidia_curand_cu12-10.3.5.147-py3-none-manylinux2014_x86_64.whl (56.3 MB)\n",
            "\u001b[2K   \u001b[90m━━━━━━━━━━━━━━━━━━━━━━━━━━━━━━━━━━━━━━━━\u001b[0m \u001b[32m56.3/56.3 MB\u001b[0m \u001b[31m12.1 MB/s\u001b[0m eta \u001b[36m0:00:00\u001b[0m\n",
            "\u001b[?25hDownloading nvidia_cusolver_cu12-11.6.1.9-py3-none-manylinux2014_x86_64.whl (127.9 MB)\n",
            "\u001b[2K   \u001b[90m━━━━━━━━━━━━━━━━━━━━━━━━━━━━━━━━━━━━━━━━\u001b[0m \u001b[32m127.9/127.9 MB\u001b[0m \u001b[31m7.3 MB/s\u001b[0m eta \u001b[36m0:00:00\u001b[0m\n",
            "\u001b[?25hDownloading nvidia_cusparse_cu12-12.3.1.170-py3-none-manylinux2014_x86_64.whl (207.5 MB)\n",
            "\u001b[2K   \u001b[90m━━━━━━━━━━━━━━━━━━━━━━━━━━━━━━━━━━━━━━━━\u001b[0m \u001b[32m207.5/207.5 MB\u001b[0m \u001b[31m6.0 MB/s\u001b[0m eta \u001b[36m0:00:00\u001b[0m\n",
            "\u001b[?25hDownloading nvidia_nvjitlink_cu12-12.4.127-py3-none-manylinux2014_x86_64.whl (21.1 MB)\n",
            "\u001b[2K   \u001b[90m━━━━━━━━━━━━━━━━━━━━━━━━━━━━━━━━━━━━━━━━\u001b[0m \u001b[32m21.1/21.1 MB\u001b[0m \u001b[31m86.9 MB/s\u001b[0m eta \u001b[36m0:00:00\u001b[0m\n",
            "\u001b[?25hDownloading typing_inspect-0.9.0-py3-none-any.whl (8.8 kB)\n",
            "Downloading mypy_extensions-1.1.0-py3-none-any.whl (5.0 kB)\n",
            "Installing collected packages: pydub, filetype, uvicorn, tomlkit, semantic-version, ruff, python-multipart, python-dotenv, nvidia-nvjitlink-cu12, nvidia-curand-cu12, nvidia-cufft-cu12, nvidia-cuda-runtime-cu12, nvidia-cuda-nvrtc-cu12, nvidia-cuda-cupti-cu12, nvidia-cublas-cu12, mypy-extensions, marshmallow, jq, httpx-sse, groovy, ffmpy, faiss-cpu, aiofiles, typing-inspect, starlette, nvidia-cusparse-cu12, nvidia-cudnn-cu12, safehttpx, pydantic-settings, nvidia-cusolver-cu12, gradio-client, fastapi, dataclasses-json, gradio, langchain-huggingface, langchain-google-genai, langchain-community\n",
            "  Attempting uninstall: nvidia-nvjitlink-cu12\n",
            "    Found existing installation: nvidia-nvjitlink-cu12 12.5.82\n",
            "    Uninstalling nvidia-nvjitlink-cu12-12.5.82:\n",
            "      Successfully uninstalled nvidia-nvjitlink-cu12-12.5.82\n",
            "  Attempting uninstall: nvidia-curand-cu12\n",
            "    Found existing installation: nvidia-curand-cu12 10.3.6.82\n",
            "    Uninstalling nvidia-curand-cu12-10.3.6.82:\n",
            "      Successfully uninstalled nvidia-curand-cu12-10.3.6.82\n",
            "  Attempting uninstall: nvidia-cufft-cu12\n",
            "    Found existing installation: nvidia-cufft-cu12 11.2.3.61\n",
            "    Uninstalling nvidia-cufft-cu12-11.2.3.61:\n",
            "      Successfully uninstalled nvidia-cufft-cu12-11.2.3.61\n",
            "  Attempting uninstall: nvidia-cuda-runtime-cu12\n",
            "    Found existing installation: nvidia-cuda-runtime-cu12 12.5.82\n",
            "    Uninstalling nvidia-cuda-runtime-cu12-12.5.82:\n",
            "      Successfully uninstalled nvidia-cuda-runtime-cu12-12.5.82\n",
            "  Attempting uninstall: nvidia-cuda-nvrtc-cu12\n",
            "    Found existing installation: nvidia-cuda-nvrtc-cu12 12.5.82\n",
            "    Uninstalling nvidia-cuda-nvrtc-cu12-12.5.82:\n",
            "      Successfully uninstalled nvidia-cuda-nvrtc-cu12-12.5.82\n",
            "  Attempting uninstall: nvidia-cuda-cupti-cu12\n",
            "    Found existing installation: nvidia-cuda-cupti-cu12 12.5.82\n",
            "    Uninstalling nvidia-cuda-cupti-cu12-12.5.82:\n",
            "      Successfully uninstalled nvidia-cuda-cupti-cu12-12.5.82\n",
            "  Attempting uninstall: nvidia-cublas-cu12\n",
            "    Found existing installation: nvidia-cublas-cu12 12.5.3.2\n",
            "    Uninstalling nvidia-cublas-cu12-12.5.3.2:\n",
            "      Successfully uninstalled nvidia-cublas-cu12-12.5.3.2\n",
            "  Attempting uninstall: nvidia-cusparse-cu12\n",
            "    Found existing installation: nvidia-cusparse-cu12 12.5.1.3\n",
            "    Uninstalling nvidia-cusparse-cu12-12.5.1.3:\n",
            "      Successfully uninstalled nvidia-cusparse-cu12-12.5.1.3\n",
            "  Attempting uninstall: nvidia-cudnn-cu12\n",
            "    Found existing installation: nvidia-cudnn-cu12 9.3.0.75\n",
            "    Uninstalling nvidia-cudnn-cu12-9.3.0.75:\n",
            "      Successfully uninstalled nvidia-cudnn-cu12-9.3.0.75\n",
            "  Attempting uninstall: nvidia-cusolver-cu12\n",
            "    Found existing installation: nvidia-cusolver-cu12 11.6.3.83\n",
            "    Uninstalling nvidia-cusolver-cu12-11.6.3.83:\n",
            "      Successfully uninstalled nvidia-cusolver-cu12-11.6.3.83\n",
            "Successfully installed aiofiles-24.1.0 dataclasses-json-0.6.7 faiss-cpu-1.11.0 fastapi-0.115.12 ffmpy-0.5.0 filetype-1.2.0 gradio-5.29.0 gradio-client-1.10.0 groovy-0.1.2 httpx-sse-0.4.0 jq-1.8.0 langchain-community-0.3.24 langchain-google-genai-2.0.10 langchain-huggingface-0.2.0 marshmallow-3.26.1 mypy-extensions-1.1.0 nvidia-cublas-cu12-12.4.5.8 nvidia-cuda-cupti-cu12-12.4.127 nvidia-cuda-nvrtc-cu12-12.4.127 nvidia-cuda-runtime-cu12-12.4.127 nvidia-cudnn-cu12-9.1.0.70 nvidia-cufft-cu12-11.2.1.3 nvidia-curand-cu12-10.3.5.147 nvidia-cusolver-cu12-11.6.1.9 nvidia-cusparse-cu12-12.3.1.170 nvidia-nvjitlink-cu12-12.4.127 pydantic-settings-2.9.1 pydub-0.25.1 python-dotenv-1.1.0 python-multipart-0.0.20 ruff-0.11.9 safehttpx-0.1.6 semantic-version-2.10.0 starlette-0.46.2 tomlkit-0.13.2 typing-inspect-0.9.0 uvicorn-0.34.2\n"
          ]
        }
      ],
      "source": [
        "!pip install langchain-community faiss-cpu langchain-huggingface  google-generativeai langchain-google-genai gradio jq"
      ]
    },
    {
      "cell_type": "code",
      "execution_count": 170,
      "metadata": {
        "id": "vd3Uowp-W8uH"
      },
      "outputs": [],
      "source": [
        "import os\n",
        "import warnings\n",
        "import pandas as pd\n",
        "import json\n",
        "\n",
        "os.environ['KMP_DUPLICATE_LIB_OK'] = 'True'\n",
        "warnings.filterwarnings(\"ignore\")\n",
        "\n"
      ]
    },
    {
      "cell_type": "markdown",
      "metadata": {
        "id": "--UhKTRTW8uI"
      },
      "source": [
        "### Document Loader JSON"
      ]
    },
    {
      "cell_type": "code",
      "execution_count": 171,
      "metadata": {
        "id": "Z11m6mVjW8uJ"
      },
      "outputs": [],
      "source": [
        "from langchain_community.document_loaders import JSONLoader\n",
        "\n",
        "jsons = []\n",
        "for root, dirs, files in os.walk('/content/sample_data/json-dataset'):\n",
        "    # print(root, dirs, files)\n",
        "    for file in files:\n",
        "        if file.endswith('.json'):\n",
        "            jsons.append(os.path.join(root, file))"
      ]
    },
    {
      "cell_type": "code",
      "execution_count": 172,
      "metadata": {
        "id": "Q0ZXpAsgW8uK"
      },
      "outputs": [],
      "source": [
        "docs = []\n",
        "for json in jsons:\n",
        "    loader = JSONLoader(json,jq_schema=\".[]\",  # El archivo ya es una lista, así que simplemente tomamos cada elemento\n",
        "                            text_content=False\n",
        "                            )\n",
        "    pages = loader.load()\n",
        "\n",
        "    docs.extend(pages)"
      ]
    },
    {
      "cell_type": "markdown",
      "metadata": {
        "id": "evXlXHobW8uK"
      },
      "source": [
        "### Document Chunking"
      ]
    },
    {
      "cell_type": "code",
      "execution_count": 173,
      "metadata": {
        "id": "SmQztq3RW8uK"
      },
      "outputs": [],
      "source": [
        "from langchain_text_splitters import RecursiveCharacterTextSplitter\n",
        "\n",
        "\n",
        "text_splitter = RecursiveCharacterTextSplitter(chunk_size=100, chunk_overlap=20)\n",
        "\n",
        "chunks = text_splitter.split_documents(docs)"
      ]
    },
    {
      "cell_type": "code",
      "execution_count": 174,
      "metadata": {
        "colab": {
          "base_uri": "https://localhost:8080/"
        },
        "id": "mcCu-1PTW8uK",
        "outputId": "c864fc00-8401-4d31-f424-f5f98452795c"
      },
      "outputs": [
        {
          "output_type": "execute_result",
          "data": {
            "text/plain": [
              "(100, 1243)"
            ]
          },
          "metadata": {},
          "execution_count": 174
        }
      ],
      "source": [
        "len(docs), len(chunks)"
      ]
    },
    {
      "cell_type": "code",
      "execution_count": 175,
      "metadata": {
        "colab": {
          "base_uri": "https://localhost:8080/"
        },
        "id": "MQ8rxJmCW8uK",
        "outputId": "b212599e-b1b3-404b-8019-f72d9e22c78f"
      },
      "outputs": [
        {
          "output_type": "execute_result",
          "data": {
            "text/plain": [
              "(978, 90)"
            ]
          },
          "metadata": {},
          "execution_count": 175
        }
      ],
      "source": [
        "len(docs[0].page_content), len(chunks[0].page_content)"
      ]
    },
    {
      "cell_type": "markdown",
      "metadata": {
        "id": "vEcJWlc4W8uK"
      },
      "source": [
        "### Document Vector Embedding"
      ]
    },
    {
      "cell_type": "code",
      "execution_count": 176,
      "metadata": {
        "id": "s5ssUOLJW8uK"
      },
      "outputs": [],
      "source": [
        "import google.generativeai as genai\n",
        "from google.colab import userdata\n",
        "import faiss\n",
        "from langchain_community.vectorstores import FAISS\n",
        "from langchain_community.docstore.in_memory import InMemoryDocstore\n",
        "from langchain_google_genai import GoogleGenerativeAIEmbeddings\n",
        "from langchain.embeddings import OpenAIEmbeddings"
      ]
    },
    {
      "cell_type": "code",
      "source": [
        "#Configure the genai library with the API key\n",
        "api_key = userdata.get('GOOGLE_API_KEY')\n",
        "genai.configure(api_key=api_key)\n",
        "\n",
        "model = genai.GenerativeModel('gemini-2.0-flash')\n",
        "\n",
        "#testing model\n",
        "response = model.generate_content(\"quién es el papa actualmente?\")\n",
        "print(response.text)"
      ],
      "metadata": {
        "colab": {
          "base_uri": "https://localhost:8080/",
          "height": 52
        },
        "id": "JJdr3Q8BYtjv",
        "outputId": "835363ee-b843-41b1-ec8c-7f79c863342e"
      },
      "execution_count": 212,
      "outputs": [
        {
          "output_type": "stream",
          "name": "stdout",
          "text": [
            "El Papa actual es el Papa Francisco.\n",
            "\n"
          ]
        }
      ]
    },
    {
      "cell_type": "code",
      "execution_count": 223,
      "metadata": {
        "colab": {
          "base_uri": "https://localhost:8080/"
        },
        "id": "_lIjk2FWW8uL",
        "outputId": "69fea63e-6e1e-4353-c803-a80ded6d12de"
      },
      "outputs": [
        {
          "output_type": "stream",
          "name": "stdout",
          "text": [
            "[-0.03618612140417099, 0.013321533799171448, -0.11232965439558029, 0.02080659568309784, 0.020828289911150932, 0.06256619095802307, 0.019421320408582687, 0.037722695618867874, -0.005002064164727926, 0.0011697154259309173, -0.018056189641356468, 0.07775287330150604, 0.06763759255409241, -0.05253675952553749, 0.018215671181678772, -0.015552974306046963, 0.018968826159834862, 0.011806091293692589, -0.09088963270187378, -0.016034089028835297, -0.00273537146858871, 0.003796084551140666, 0.029542265459895134, -0.043985385447740555, -0.01580583117902279, -0.0272434763610363, 0.026261087507009506, -0.04548199847340584, 0.0026322673074901104, -0.027413934469223022, -0.004949113354086876, 0.041221100836992264, -0.03235857933759689, -0.051387205719947815, 0.021668581292033195, -0.009788203053176403, -0.008052870631217957, 0.022189658135175705, 0.02144995704293251, -0.09687020629644394, -0.06336642056703568, 0.02938433550298214, -0.06999195367097855, 0.020232347771525383, -0.03396876901388168, -0.003638986963778734, 0.03425130993127823, -0.010292393155395985, -0.05111830681562424, 0.058336012065410614, 0.033509332686662674, -0.0038212486542761326, -0.03833461552858353, -0.049427490681409836, -0.028591066598892212, 0.03015279583632946, 0.03195128217339516, -0.04572199285030365, 0.07342210412025452, -0.02680317871272564, -0.011511282064020634, -0.03529801219701767, -0.00025861620088107884, -0.03089224547147751, 0.003346619661897421, -0.043046608567237854, 0.0339009091258049, 0.01879035122692585, -0.07564488053321838, -0.030743226408958435, 0.0484808087348938, 0.045507486909627914, -0.048786576837301254, -0.026581531390547752, 0.031015217304229736, -0.01713036745786667, -0.013292497955262661, -0.0026400473434478045, 0.009509730152785778, -0.01379991602152586, -0.041696697473526, 0.0104092787951231, 0.08632687479257584, 0.06520325690507889, 0.019983947277069092, 0.049626849591732025, 0.0012920746812596917, 0.023799270391464233, -0.03696625307202339, -0.02251693792641163, 0.08531705290079117, 0.0045420764945447445, -0.015291998162865639, 0.05992685630917549, 0.09495445340871811, -0.0039009787142276764, -0.051765065640211105, -0.10786493122577667, 0.029136745259165764, 0.05576757714152336, -0.0069135199300944805, 0.020858781412243843, 0.010560819879174232, 0.006563959643244743, 0.04992030933499336, 0.02265213057398796, -0.046807464212179184, 0.008621987886726856, -0.044080931693315506, -0.0015336310025304556, 0.022305011749267578, -0.022221164777874947, 0.06263116002082825, -0.05192198604345322, 0.03523615002632141, 6.954314449103549e-05, -0.034206029027700424, 0.061525702476501465, -0.03488849475979805, -0.055262673646211624, 0.005933421663939953, 0.062183771282434464, -0.054092273116111755, 0.020418746396899223, 0.07751026004552841, -0.047734830528497696, 0.003050748258829117, -0.015056359581649303, -0.07270855456590652, -0.03214355558156967, 0.07324099540710449, -0.06832746416330338, 0.028723489493131638, 0.05579080060124397, -0.09026631712913513, 0.020052775740623474, 0.015340113081037998, 0.04445178061723709, -0.041042011231184006, -0.03423532098531723, -0.022987661883234978, -0.01104677002876997, -0.1007518619298935, 0.03726824000477791, -0.0021501306910067797, -0.049745652824640274, 0.027326561510562897, 0.011076484806835651, -0.040004294365644455, -0.015045912005007267, -0.045831914991140366, -0.0014662467874586582, 0.017594698816537857, 0.04006005823612213, -0.06449508666992188, 0.020194917917251587, 0.06261822581291199, -0.015990082174539566, 0.0705307349562645, -0.009579719975590706, 0.003188235452398658, -0.010915427468717098, 0.07740101218223572, 0.018639950081706047, -0.049518972635269165, -0.008164160884916782, 0.01648307964205742, -0.07840010523796082, 0.011729159392416477, -0.0006043469184078276, -0.04099433869123459, -0.0014960197731852531, -0.07986641675233841, 0.016195083037018776, -0.009212014265358448, -0.018500978127121925, -0.0119710024446249, -0.0044164196588099, -0.0046324823051691055, -0.01808430626988411, 0.12072960287332535, 0.008910659700632095, -0.02215449884533882, -0.07026737183332443, -0.024902671575546265, -0.024753009900450706, -0.03760366514325142, 0.00976600032299757, 0.03163668513298035, 0.011277254670858383, -0.04831811413168907, 0.010098366066813469, 0.03548159822821617, -0.020401598885655403, -0.02192862704396248, 0.03724963217973709, 0.0928778350353241, -0.06958242505788803, -0.02558145858347416, 0.017067791894078255, 0.04195224866271019, 0.023662451654672623, -0.011467082425951958, -0.03095790557563305, -0.028631897643208504, 0.005363711155951023, -0.05420602485537529, -0.03389850631356239, 0.0408625528216362, 0.07605290412902832, -0.04930959641933441, -0.031181538477540016, 0.06541889905929565, -0.04782943055033684, -0.010673869401216507, 0.0077869766391813755, 0.028197480365633965, -0.003617889480665326, 0.023070108145475388, 0.009373039938509464, -0.017631443217396736, 0.028468644246459007, 0.019903037697076797, -0.009352880530059338, 0.0009804832516238093, -0.014276303350925446, -0.022153539583086967, -0.001774014555849135, 0.01922050304710865, -0.023693231865763664, 0.006967333145439625, 0.021247580647468567, -0.0017814603634178638, 0.015319359488785267, -0.013620912097394466, 0.021928805857896805, 0.037755634635686874, -0.002382404636591673, -0.008972246199846268, -0.01619933545589447, 0.005323911085724831, 0.012161272577941418, -0.022837916389107704, 0.03190150484442711, 0.011949987150728703, 0.0007817167206667364, 0.020346611738204956, 0.07221728563308716, 0.03245207294821739, -0.02885483019053936, -0.0206938236951828, 0.059923090040683746, -0.01809120550751686, 0.0045169866643846035, -0.04757346585392952, 0.0008118670666590333, 0.0634097009897232, -0.033999066799879074, -0.0033039716072380543, 0.03441863879561424, 0.04080623760819435, -0.02413938008248806, 0.0041502234525978565, -0.0768989771604538, -0.015830211341381073, -0.0813463106751442, -0.03244011476635933, 0.010616659186780453, 0.0535629540681839, -0.01716897077858448, 0.05888553708791733, -0.005684973672032356, -0.03873364254832268, 0.020059723407030106, -0.04948798194527626, 0.040581293404102325, -0.003938241861760616, -0.0006857310072518885, -0.025386404246091843, -0.05948284640908241, 0.010592357255518436, -0.016841234639286995, 0.0025111755821853876, -0.00803051795810461, -0.030408836901187897, -0.02336271107196808, -0.02064407803118229, -0.01984362117946148, -0.026704560965299606, -0.031039318069815636, 0.0485580675303936, 0.045062363147735596, -0.039275094866752625, -0.04670821502804756, 0.041226089000701904, 0.013519038446247578, 0.07579385489225388, 0.02295059897005558, -0.016505492851138115, 0.006963365711271763, 0.008456980809569359, 0.03408919274806976, 0.004507876932621002, 0.004028139170259237, -0.006565515883266926, -0.002199145732447505, 0.009696543216705322, -0.020353008061647415, -0.01727571338415146, -0.008032253943383694, 0.06656651198863983, 0.051743343472480774, -0.006782140117138624, -0.040592364966869354, -0.046248529106378555, 0.009945729747414589, -0.08922591805458069, -0.023161718621850014, -0.05548224225640297, -0.0027966296765953302, 0.03815682977437973, 0.00981065072119236, -0.05490050092339516, -0.030063625425100327, 0.0910717323422432, -0.052479375153779984, 0.04109561815857887, 0.023456793278455734, -0.0018834230722859502, -0.05555008724331856, 0.003295848611742258, -0.018349500373005867, 0.005871359724551439, -0.05140005797147751, -0.0329984687268734, 0.021939605474472046, -0.037414632737636566, 0.01111520640552044, 0.0712243989109993, 0.015224815346300602, 0.05938055366277695, 0.02748400717973709, 0.046144772320985794, 0.04101106896996498, -0.001587928389199078, -0.030946804210543633, 0.027229519560933113, -0.0061148726381361485, 0.004750717431306839, 0.0025438200682401657, 0.032812681049108505, 0.012220415286719799, 0.007624763064086437, -0.020323606207966805, -0.004352752584964037, -0.029156554490327835, 0.009961329400539398, -0.017430881038308144, 0.05516113340854645, 0.009430634789168835, -0.007727452553808689, -0.03909844532608986, -0.0396442711353302, 0.03966949135065079, -0.026226812973618507, -0.009240847080945969, 0.03236258774995804, 0.01152566447854042, -0.05830257013440132, -0.0037670470774173737, -0.007353586610406637, 0.03918880224227905, 0.010183647274971008, -0.004555100575089455, 0.012607059441506863, -0.03394694998860359, -0.01770797185599804, 0.005778386723250151, 0.01320564467459917, -0.08030817657709122, -0.006738486234098673, -0.010458243079483509, -0.04415769875049591, 0.04399488493800163, -0.022167865186929703, 0.07271020114421844, -0.047034770250320435, 0.01034508552402258, 0.01765337400138378, 0.014364941045641899, 0.018495189025998116, 0.00526596512645483, 0.03803818300366402, 0.047878801822662354, 0.03202759101986885, 0.031566303223371506, 0.007643662393093109, 0.0031110511627048254, -0.02033594436943531, 0.0017666268395259976, -0.010110768489539623, -0.0602794773876667, -0.014211351051926613, -0.0012194416485726833, 0.03351747989654541, 0.006651125382632017, 0.09640806168317795, 0.018855951726436615, 0.007040516007691622, -0.02582697384059429, 0.017660675570368767, -0.01851370744407177, -0.0059286910109221935, 0.017735863104462624, 0.00312771531753242, 0.03907671570777893, -0.007852353155612946, -0.025055814534425735, 0.028459826484322548, 0.021567098796367645, 0.008614473044872284, 0.014716007746756077, -0.006911571137607098, -0.05385793745517731, 0.013673187233507633, -0.039036449044942856, -0.032373182475566864, -0.0018014349043369293, 0.0538070909678936, -0.001277363859117031, 0.003728954354301095, 0.06245888024568558, -0.007530728355050087, -0.035576723515987396, -0.029960177838802338, 0.008870448917150497, 0.014296060428023338, -0.05509687587618828, -0.025830375030636787, 0.010122301056981087, -0.029043329879641533, 0.0006910098600201309, 0.05372694134712219, 0.007103946525603533, -0.05471388250589371, 0.016707656905055046, 0.018575575202703476, 0.002037917962297797, 0.02450321428477764, -0.015807557851076126, 0.028251884505152702, 0.014985399320721626, -0.04358932748436928, -0.04509340226650238, -0.03856420889496803, 0.0022836006246507168, 0.061810195446014404, 0.057775288820266724, -0.053146250545978546, 0.013651566579937935, 0.009553078562021255, 0.00038675873656757176, 0.04531310498714447, -0.03375246375799179, -0.02166837267577648, -0.010089842602610588, -0.005464312620460987, 0.051823750138282776, -0.033676110208034515, -0.0012294603511691093, 0.0026811989955604076, 0.023100819438695908, 0.0025180173106491566, 0.03649357333779335, -0.04325876012444496, 0.016463370993733406, 0.049191638827323914, 0.03878391161561012, -0.010265311226248741, -0.011584307067096233, -0.04183809459209442, 0.033828187733888626, -0.02368718944489956, 0.02158564329147339, 0.04695582389831543, -0.04114354029297829, -0.03549827262759209, -0.0026582423597574234, 0.018343959003686905, -0.01403031311929226, 0.02914303168654442, 0.05871563032269478, -0.001600214745849371, 0.019246431067585945, -0.018533410504460335, -0.02655959315598011, 0.002329284558072686, 0.011104349046945572, 0.0014385358663275838, 0.03432606905698776, 0.06923659145832062, -0.027010029181838036, -0.03757000342011452, -0.01584327034652233, -0.08060058951377869, 5.602486999123357e-05, -0.047351859509944916, 0.007019037380814552, 0.016135981306433678, -0.014083045534789562, 0.04185173287987709, -0.03197401389479637, 0.07212213426828384, 0.03442836180329323, -0.04051068052649498, 0.013085308484733105, -0.02911441959440708, -0.019188934937119484, 0.0278705433011055, 0.018777204677462578, -0.0052933357656002045, -0.050545159727334976, 0.03776683658361435, -0.004321870394051075, -0.009920768439769745, -0.06790997833013535, -0.016402963548898697, 0.0011334987357258797, 0.03955458477139473, -0.058910854160785675, -0.001501861377619207, 0.06635201722383499, 0.020799679681658745, 0.024090170860290527, 0.020213624462485313, 0.06340737640857697, 0.03739263489842415, 0.02816682867705822, 0.004720356315374374, 0.03902924805879593, 0.06580367684364319, 0.04443075880408287, 0.01528063602745533, 0.026131026446819305, 0.006354715209454298, 0.0090829748660326, 0.0008778503397479653, 0.02403634414076805, -0.006231087725609541, 0.045761846005916595, -0.07306795567274094, -0.011824340559542179, 0.0003736468788702041, 0.019382813945412636, 0.019196441397070885, -0.05563954636454582, 0.04370751604437828, 0.05541989207267761, -0.038466788828372955, -0.010559716261923313, 0.050204087048769, -0.027637913823127747, -0.01592872105538845, -0.027896979823708534, -0.023124296218156815, 0.03236570209264755, -0.012036613188683987, 0.04169122874736786, 0.010264234617352486, 0.01100900024175644, -0.019927216693758965, -0.04044884815812111, 0.03555658087134361, -0.041990406811237335, 0.03284693881869316, 0.006844345014542341, -0.0060194069519639015, 0.015176089480519295, 0.04397926479578018, 0.007665728684514761, 0.01671786792576313, -0.019532138481736183, 0.05314989760518074, 0.0034249986056238413, -0.02575218304991722, -0.017863577231764793, -0.009350292384624481, 0.00933871604502201, 0.051626380532979965, 0.0015991858672350645, -0.027473347261548042, 0.018124336376786232, -0.01123933307826519, -0.0549071729183197, 0.06004369258880615, 0.018669623881578445, -0.041913457214832306, -0.027718041092157364, 0.05007755011320114, 0.023490730673074722, 0.04133530706167221, -0.032034795731306076, 0.02259872853755951, -0.020570015534758568, -0.011087311431765556, -0.04912490397691727, -0.020763415843248367, -0.021305669099092484, 0.011515988036990166, 0.02868892438709736, -0.014367316849529743, 0.016295650973916054, -0.004412315785884857, -0.04265281558036804, -0.0426815040409565, 0.02731487527489662, -0.03820943459868431, -0.059831611812114716, -0.0010516811162233353, 0.009086903184652328, 0.03970569744706154, 0.06435979902744293, 0.024391010403633118, -0.04064544290304184, -0.003322087461128831, -0.0451359823346138, 0.00922882929444313, 0.007105979137122631, 0.010582692921161652, -0.01945333182811737, -0.02980221062898636, 0.010688702575862408, 0.08310377597808838, -0.04274779558181763, -0.015226796269416809, -0.02147405408322811, -0.01093547884374857, -0.013625701889395714, 0.049576546996831894, -0.03857317194342613, -0.002961620921269059, 0.051219381392002106, 0.051727551966905594, 0.011051845736801624, -0.02677510306239128, 0.039281487464904785, -0.031104179099202156, -0.012136940844357014, 0.03419073671102524, 0.031583044677972794, 0.005615841597318649, 0.006413280963897705, -0.011122209019958973, -0.007987618446350098, -0.04496939480304718, -0.001887060352601111, 0.04493671655654907, -0.04064885899424553, 0.026727067306637764, -0.031053584069013596, -0.059643108397722244, -0.015159476548433304, 0.016105880960822105, 0.055245108902454376, -0.039340123534202576, -0.002471338026225567, -0.005919862072914839, -0.006643771659582853, -0.028313828632235527, -0.03300862014293671, -0.019178515300154686, -0.020856734365224838, -0.011690046638250351, 0.022208407521247864, -0.023527026176452637, 0.02071348764002323, 0.04644331336021423, 0.024857107549905777, 0.00710085267201066, -0.012097054161131382, 0.03722658380866051, -0.010711743496358395, 0.0931309387087822, -0.016662294045090675, -0.032874930649995804, 0.011804459616541862, 0.05290348455309868, -0.06437093019485474, 0.031173691153526306, 0.0023248165380209684, 0.017539002001285553, -0.010162869468331337, -0.016400516033172607, 0.024416483938694, -0.011574403382837772, 0.04678821936249733, -0.027204226702451706, 0.0014459314988926053, -0.009450073353946209, -0.044863685965538025, 0.005266689229756594, 0.007576949428766966, -0.07013114541769028, -0.06101178377866745, 0.040085598826408386, 0.0309886671602726, 0.046001333743333817, 0.00583447702229023, -0.03219041973352432, -0.03927578404545784, -0.012419632636010647, 0.03673403710126877, 0.023320047184824944, 0.017321182414889336, 0.049063123762607574, 0.04479324817657471, 0.03219098225235939, 0.03543023392558098, 0.05198223516345024, 0.020482489839196205, -0.008159074001014233, 0.012328083626925945, 0.10735311359167099, 0.054593537002801895, -0.012174488045275211, 0.025986257940530777, -0.010671964846551418, 0.04585329070687294, -0.038676921278238297, -0.011493640020489693, 0.05980199947953224, 0.0013257123064249754, -0.020511189475655556, 0.05441515892744064, -0.03064844384789467, -0.033772267401218414, 0.007066662888973951, 0.0094456747174263, -0.012060343287885189, 0.030535206198692322, 0.029784109443426132, -0.008170662447810173, -0.008781548589468002, 0.017985770478844643, 0.011209423653781414, -0.0071805063635110855, -0.05387921258807182, -0.023422516882419586, -0.03141515329480171, -0.05573983117938042, -0.12676571309566498, 0.011310159228742123, 0.019534295424818993, 0.02128656953573227, 0.02562284655869007, 0.024309128522872925, 0.04479791224002838, -0.05021977424621582, 0.009058992378413677, 0.0393327958881855, -0.005022539757192135, -0.006213115993887186, 0.005587280262261629, -0.0037828332278877497, -0.019238747656345367, 0.01498737558722496, 0.031217293813824654, -0.02630961686372757]\n"
          ]
        }
      ],
      "source": [
        "#google embeddings\n",
        "\n",
        "embeddings = GoogleGenerativeAIEmbeddings(model=\"models/text-embedding-004\", google_api_key=api_key)\n",
        "#embeddings = GoogleGenerativeAIEmbeddings(model=\"models/embedding-001\", google_api_key=api_key)\n",
        "\n",
        "#open ai embeddings\n",
        "#embeddings = OpenAIEmbeddings(openai_api_key= userdata.get('OPENAI_API_KEY'))\n",
        "\n",
        "single_vector = embeddings.embed_query(\"this is some text data\")\n",
        "print(single_vector)\n"
      ]
    },
    {
      "cell_type": "code",
      "execution_count": 224,
      "metadata": {
        "colab": {
          "base_uri": "https://localhost:8080/"
        },
        "id": "9DcNgymZW8uL",
        "outputId": "5d548db5-16c8-41f7-b5f7-547b625f4b34"
      },
      "outputs": [
        {
          "output_type": "execute_result",
          "data": {
            "text/plain": [
              "768"
            ]
          },
          "metadata": {},
          "execution_count": 224
        }
      ],
      "source": [
        "len(single_vector)"
      ]
    },
    {
      "cell_type": "code",
      "execution_count": 225,
      "metadata": {
        "colab": {
          "base_uri": "https://localhost:8080/"
        },
        "id": "PCCzMXjuW8uL",
        "outputId": "d2a02985-f51f-4599-f1fb-cde73ecb3684"
      },
      "outputs": [
        {
          "output_type": "execute_result",
          "data": {
            "text/plain": [
              "(0, 768)"
            ]
          },
          "metadata": {},
          "execution_count": 225
        }
      ],
      "source": [
        "index = faiss.IndexFlatL2(len(single_vector))\n",
        "index.ntotal, index.d"
      ]
    },
    {
      "cell_type": "code",
      "execution_count": 226,
      "metadata": {
        "id": "I_QdqqymW8uL"
      },
      "outputs": [],
      "source": [
        "vector_store = FAISS(\n",
        "    embedding_function=embeddings,\n",
        "    index=index,\n",
        "    docstore=InMemoryDocstore(),\n",
        "    index_to_docstore_id={}\n",
        ")"
      ]
    },
    {
      "cell_type": "code",
      "execution_count": 227,
      "metadata": {
        "colab": {
          "base_uri": "https://localhost:8080/"
        },
        "id": "DJqc7debW8uL",
        "outputId": "5afb4dee-d042-44e4-cdd6-8c25e7f3c07d"
      },
      "outputs": [
        {
          "output_type": "execute_result",
          "data": {
            "text/plain": [
              "1243"
            ]
          },
          "metadata": {},
          "execution_count": 227
        }
      ],
      "source": [
        "len(chunks)"
      ]
    },
    {
      "cell_type": "code",
      "execution_count": 228,
      "metadata": {
        "id": "7SuaDJVjW8uL"
      },
      "outputs": [],
      "source": [
        "# help(vector_store)"
      ]
    },
    {
      "cell_type": "code",
      "execution_count": 229,
      "metadata": {
        "id": "JVYph0a6W8uL"
      },
      "outputs": [],
      "source": [
        "ids = vector_store.add_documents(documents=chunks)"
      ]
    },
    {
      "cell_type": "code",
      "execution_count": 230,
      "metadata": {
        "colab": {
          "base_uri": "https://localhost:8080/"
        },
        "id": "3D3V8tHYW8uL",
        "outputId": "f61aea4d-bb9b-4a7f-fb17-eb8eaa3386ab"
      },
      "outputs": [
        {
          "output_type": "execute_result",
          "data": {
            "text/plain": [
              "1243"
            ]
          },
          "metadata": {},
          "execution_count": 230
        }
      ],
      "source": [
        "vector_store.index_to_docstore_id\n",
        "len(ids)"
      ]
    },
    {
      "cell_type": "code",
      "execution_count": 231,
      "metadata": {
        "id": "AHTn3HulW8uL"
      },
      "outputs": [],
      "source": [
        "# # # store vector database\n",
        "db_name = \"incidentes-facturas-db\"\n",
        "vector_store.save_local(db_name)\n",
        "\n",
        "# # # # load vector database\n",
        "# new_vector_store = FAISS.load_local(db_name, embeddings=embeddings, allow_dangerous_deserialization=True)\n",
        "# len(new_vector_store.index_to_docstore_id)"
      ]
    },
    {
      "cell_type": "markdown",
      "metadata": {
        "id": "96eXwJ3wW8uL"
      },
      "source": [
        "### Retreival"
      ]
    },
    {
      "cell_type": "code",
      "execution_count": 232,
      "metadata": {
        "colab": {
          "base_uri": "https://localhost:8080/"
        },
        "id": "EX--WV96W8uL",
        "outputId": "90143460-0321-49ef-f5b8-1d3df2fa7a2d"
      },
      "outputs": [
        {
          "output_type": "stream",
          "name": "stdout",
          "text": [
            "{\"id_incidente\": 103, \"asunto\": \"Fallo en la validaci\\u00f3n del RUC emisor\", \"creador\": \"Eduardo\",\n",
            "\n",
            "\n",
            "\n",
            "{\"id_incidente\": 113, \"asunto\": \"Fallo en la validaci\\u00f3n del RUC emisor\", \"creador\": \"Eduardo\",\n",
            "\n",
            "\n",
            "\n",
            "{\"id_incidente\": 106, \"asunto\": \"Fallo en la comunicaci\\u00f3n con el servidor de DGI\", \"creador\":\n",
            "\n",
            "\n",
            "\n",
            "{\"id_incidente\": 102, \"asunto\": \"Rechazo de e-Factura por parte de DGI\", \"creador\": \"Eduardo\",\n",
            "\n",
            "\n",
            "\n"
          ]
        }
      ],
      "source": [
        "question = \"incidente 108\"\n",
        "parts = vector_store.search(query=question, search_type='similarity')\n",
        "\n",
        "for doc in parts:\n",
        "    print(doc.page_content)\n",
        "    print(\"\\n\\n\")"
      ]
    },
    {
      "cell_type": "code",
      "execution_count": 233,
      "metadata": {
        "id": "aatfFzFqW8uL"
      },
      "outputs": [],
      "source": [
        "retriever = vector_store.as_retriever(search_type=\"similarity\", search_kwargs = {'k': 10,\n",
        "                                                                          'fetch_k': 50,\n",
        "                                                                          'lambda_mult': 1})"
      ]
    },
    {
      "cell_type": "code",
      "execution_count": 234,
      "metadata": {
        "colab": {
          "base_uri": "https://localhost:8080/"
        },
        "id": "HSvcH-3XW8uM",
        "outputId": "13d890ba-1d05-4e3d-bffc-7007c150f252"
      },
      "outputs": [
        {
          "output_type": "stream",
          "name": "stdout",
          "text": [
            "{\"id_incidente\": 103, \"asunto\": \"Fallo en la validaci\\u00f3n del RUC emisor\", \"creador\": \"Eduardo\",\n",
            "\n",
            "\n",
            "\n",
            "{\"id_incidente\": 113, \"asunto\": \"Fallo en la validaci\\u00f3n del RUC emisor\", \"creador\": \"Eduardo\",\n",
            "\n",
            "\n",
            "\n",
            "{\"id_incidente\": 106, \"asunto\": \"Fallo en la comunicaci\\u00f3n con el servidor de DGI\", \"creador\":\n",
            "\n",
            "\n",
            "\n",
            "{\"id_incidente\": 102, \"asunto\": \"Rechazo de e-Factura por parte de DGI\", \"creador\": \"Eduardo\",\n",
            "\n",
            "\n",
            "\n",
            "{\"id_incidente\": 116, \"asunto\": \"Fallo en la comunicaci\\u00f3n con el servidor de DGI\", \"creador\":\n",
            "\n",
            "\n",
            "\n",
            "{\"id_incidente\": 189, \"asunto\": \"Comprobante no enviado correctamente a DGI\", \"creador\":\n",
            "\n",
            "\n",
            "\n",
            "{\"id_incidente\": 183, \"asunto\": \"Fallo en la validaci\\u00f3n del RUC emisor\", \"creador\": \"Pablo\",\n",
            "\n",
            "\n",
            "\n",
            "{\"id_incidente\": 132, \"asunto\": \"Rechazo de e-Factura por parte de DGI\", \"creador\": \"Pablo\",\n",
            "\n",
            "\n",
            "\n",
            "{\"id_incidente\": 133, \"asunto\": \"Fallo en la validaci\\u00f3n del RUC emisor\", \"creador\": \"Eduardo\",\n",
            "\n",
            "\n",
            "\n",
            "{\"id_incidente\": 129, \"asunto\": \"Comprobante no enviado correctamente a DGI\", \"creador\":\n",
            "\n",
            "\n",
            "\n"
          ]
        }
      ],
      "source": [
        "partes_retriever = retriever.invoke(question)\n",
        "\n",
        "for doc in partes_retriever:\n",
        "     print(doc.page_content)\n",
        "     print(\"\\n\\n\")\n"
      ]
    },
    {
      "cell_type": "code",
      "execution_count": 235,
      "metadata": {
        "id": "I0Hpac8NW8uM"
      },
      "outputs": [],
      "source": [
        "\n",
        "\n",
        "# question = \"what is used to reduce weight?\"\n",
        "# question = \"what are side effects of supplements?\"\n",
        "# question = \"what are the benefits of supplements?\"\n",
        "# question = \"what are the benefits of BCAA supplements?\"\n",
        "question = \"Incidente 108\"\n",
        "\n"
      ]
    },
    {
      "cell_type": "markdown",
      "metadata": {
        "id": "6mGGfePfW8uM"
      },
      "source": []
    },
    {
      "cell_type": "markdown",
      "metadata": {
        "id": "y1MROwIeW8uM"
      },
      "source": [
        "### RAG with LLAMA 3.2 on OPEN AI"
      ]
    },
    {
      "cell_type": "code",
      "execution_count": 236,
      "metadata": {
        "id": "2moTDLNSW8uM"
      },
      "outputs": [],
      "source": [
        "from langchain import hub\n",
        "from langchain_core.output_parsers import StrOutputParser\n",
        "from langchain_core.runnables import RunnablePassthrough\n",
        "from langchain_core.prompts import ChatPromptTemplate\n"
      ]
    },
    {
      "cell_type": "code",
      "source": [
        "prompt = hub.pull(\"rlm/rag-prompt\")"
      ],
      "metadata": {
        "id": "9X7v8WA3wMeT"
      },
      "execution_count": 237,
      "outputs": []
    },
    {
      "cell_type": "code",
      "execution_count": 238,
      "metadata": {
        "id": "Q_xFKrZ-W8uM"
      },
      "outputs": [],
      "source": [
        " prompt = \"\"\"\n",
        "     You are an assistant that responds for question-answering tasks. Use the following pieces of retrieved context to answer the question.\n",
        "     If you don't know the answer, just say that you don't know.\n",
        "     Answer in bullet points. Make sure your answer is relevant to the question and it is answered from the context only.\n",
        "     Answer in spanish.\n",
        "     Question: {question}\n",
        "     Context: {context}\n",
        "     Answer:\n",
        " \"\"\"\n",
        "prompt = ChatPromptTemplate.from_template(prompt)"
      ]
    },
    {
      "cell_type": "code",
      "execution_count": 239,
      "metadata": {
        "id": "8BaqSPCfW8uN"
      },
      "outputs": [],
      "source": [
        "def format_docs(docs):\n",
        "    return \"\\n\\n\".join([doc.page_content for doc in docs])\n",
        "\n",
        "# print(format_docs(docs))"
      ]
    },
    {
      "cell_type": "code",
      "execution_count": 240,
      "metadata": {
        "id": "8Y4JbZdoW8uN"
      },
      "outputs": [],
      "source": [
        "from langchain_google_genai import ChatGoogleGenerativeAI\n",
        "\n",
        "model_rag = ChatGoogleGenerativeAI(model=\"gemini-2.0-flash\", google_api_key=api_key)\n",
        "\n",
        "rag_chain = (\n",
        "    {\"context\": retriever|format_docs, \"question\": RunnablePassthrough()}\n",
        "    | prompt\n",
        "    | model_rag\n",
        "    | StrOutputParser()\n",
        ")"
      ]
    },
    {
      "cell_type": "code",
      "execution_count": 242,
      "metadata": {
        "colab": {
          "base_uri": "https://localhost:8080/"
        },
        "id": "8oq8GmUlW8uN",
        "outputId": "d09771e3-f0a3-4cb4-aa8b-bb89db272fc7"
      },
      "outputs": [
        {
          "output_type": "stream",
          "name": "stdout",
          "text": [
            "Los incidentes que tienen como asunto \"Fallo en la validación del RUC emisor\" son:\n",
            "\n",
            "*   Incidente 163, creado por Gustavo.\n",
            "*   Incidente 133, creado por Eduardo.\n",
            "*   Incidente 193, creado por Pablo.\n",
            "*   Incidente 183, creado por Pablo.\n",
            "*   Incidente 173, creado por Gabriel.\n",
            "*   Incidente 113, creado por Eduardo.\n",
            "*   Incidente 103, creado por Eduardo.\n",
            "*   Incidente 123, creado por Eduardo.\n",
            "*   Incidente 153\n",
            "*   Incidente 143\n"
          ]
        }
      ],
      "source": [
        "# question = \"what is used to gain muscle mass?\"\n",
        "# question = \"what is used to reduce weight?\"\n",
        "# question = \"what are side effects of supplements?\"\n",
        "# question = \"what are the benefits of supplements?\"\n",
        "# question = \"what are the benefits of BCAA supplements?\"\n",
        "\n",
        "#question = \"what is used to increase mass of the Earth?\"\n",
        "\n",
        "question = \"qué incidentes tienen asunto validación RUC\"\n",
        "\n",
        "output = rag_chain.invoke(question)\n",
        "print(output)\n"
      ]
    },
    {
      "cell_type": "code",
      "execution_count": 63,
      "metadata": {
        "id": "d1ICnRE-W8uN"
      },
      "outputs": [],
      "source": [
        "import gradio as gr # oh yeah!"
      ]
    },
    {
      "cell_type": "code",
      "execution_count": 64,
      "metadata": {
        "id": "qW4S6uiVW8uN"
      },
      "outputs": [],
      "source": [
        "# Let's create a call that streams back results\n",
        "\n",
        "def chatbot(question):\n",
        "\n",
        "    docs = retriever.invoke(question)\n",
        "\n",
        "    rag_chain = (\n",
        "    {\"context\": retriever|format_docs, \"question\": RunnablePassthrough()}\n",
        "    | prompt\n",
        "    | model_rag\n",
        "    | StrOutputParser())\n",
        "\n",
        "    output = rag_chain.invoke(question)\n",
        "\n",
        "    return output\n",
        "\n",
        "    # result = \"\"\n",
        "    # for chunk in stream:\n",
        "    #     result += chunk.choices[0].delta.content or \"\"\n",
        "    #     yield result\n"
      ]
    },
    {
      "cell_type": "code",
      "execution_count": 77,
      "metadata": {
        "colab": {
          "base_uri": "https://localhost:8080/",
          "height": 645
        },
        "id": "8bYqNUznW8uN",
        "outputId": "2414f054-d3a5-4c98-a72f-1bb824bf03bc"
      },
      "outputs": [
        {
          "output_type": "stream",
          "name": "stdout",
          "text": [
            "It looks like you are running Gradio on a hosted a Jupyter notebook. For the Gradio app to work, sharing must be enabled. Automatically setting `share=True` (you can turn this off by setting `share=False` in `launch()` explicitly).\n",
            "\n",
            "Colab notebook detected. To show errors in colab notebook, set debug=True in launch()\n",
            "* Running on public URL: https://f5ab2f8924dde4123a.gradio.live\n",
            "\n",
            "This share link expires in 1 week. For free permanent hosting and GPU upgrades, run `gradio deploy` from the terminal in the working directory to deploy to Hugging Face Spaces (https://huggingface.co/spaces)\n"
          ]
        },
        {
          "output_type": "display_data",
          "data": {
            "text/plain": [
              "<IPython.core.display.HTML object>"
            ],
            "text/html": [
              "<div><iframe src=\"https://f5ab2f8924dde4123a.gradio.live\" width=\"100%\" height=\"500\" allow=\"autoplay; camera; microphone; clipboard-read; clipboard-write;\" frameborder=\"0\" allowfullscreen></iframe></div>"
            ]
          },
          "metadata": {}
        },
        {
          "output_type": "execute_result",
          "data": {
            "text/plain": []
          },
          "metadata": {},
          "execution_count": 77
        }
      ],
      "source": [
        "view = gr.Interface(\n",
        "    fn=chatbot,\n",
        "    inputs=[gr.Textbox(label=\"Your message:\", lines=6)],\n",
        "    outputs=[gr.Textbox(label=\"Response:\", lines=20)],\n",
        "    flagging_mode=\"never\"\n",
        ")\n",
        "\n",
        "gr.themes.Ocean()\n",
        "\n",
        "view.launch()"
      ]
    },
    {
      "cell_type": "code",
      "execution_count": null,
      "metadata": {
        "id": "zA9F1t03W8uN"
      },
      "outputs": [],
      "source": []
    }
  ],
  "metadata": {
    "kernelspec": {
      "display_name": "ml-env",
      "language": "python",
      "name": "python3"
    },
    "language_info": {
      "codemirror_mode": {
        "name": "ipython",
        "version": 3
      },
      "file_extension": ".py",
      "mimetype": "text/x-python",
      "name": "python",
      "nbconvert_exporter": "python",
      "pygments_lexer": "ipython3",
      "version": "3.13.0"
    },
    "colab": {
      "provenance": [],
      "include_colab_link": true
    }
  },
  "nbformat": 4,
  "nbformat_minor": 0
}